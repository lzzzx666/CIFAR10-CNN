{
  "cells": [
    {
      "cell_type": "code",
      "execution_count": 1,
      "metadata": {
        "colab": {
          "base_uri": "https://localhost:8080/"
        },
        "id": "P-WW6Frg6kPM",
        "outputId": "88a8948c-670d-481e-8421-e34ea1e167b3"
      },
      "outputs": [
        {
          "name": "stdout",
          "output_type": "stream",
          "text": [
            "Files already downloaded and verified\n",
            "Files already downloaded and verified\n"
          ]
        }
      ],
      "source": [
        "import torch\n",
        "import torchvision\n",
        "import torchvision.transforms as transforms\n",
        "import os\n",
        "import matplotlib.pyplot as plt\n",
        "\n",
        "transform = transforms.Compose([\n",
        "    transforms.Resize(224),\n",
        "    transforms.ToTensor(),\n",
        "    transforms.Normalize([0.485, 0.456, 0.406], [0.229, 0.224, 0.225])])\n",
        "\n",
        "batch_size = 64\n",
        "trainset = torchvision.datasets.CIFAR10(root= os.getcwd(), train = True,\n",
        "                                        download = True, transform = transform)\n",
        "trainloader = torch.utils.data.DataLoader(trainset, batch_size = batch_size,\n",
        "                                          shuffle = True, num_workers = 2)\n",
        "\n",
        "testset = torchvision.datasets.CIFAR10(root= os.getcwd(), train = False,\n",
        "                                       download = True, transform = transform)\n",
        "testloader = torch.utils.data.DataLoader(testset, batch_size = batch_size, shuffle=False, num_workers = 2)\n",
        "\n",
        "\n",
        "classes = ('plane', 'car', 'bird', 'cat', 'deer', 'dog', 'frog', 'horse', 'ship', 'truck')"
      ]
    },
    {
      "cell_type": "code",
      "execution_count": 2,
      "metadata": {
        "id": "J3Ezw_xr6kPP"
      },
      "outputs": [],
      "source": [
        "import torch.nn as nn\n",
        "import torch.nn.functional as F\n",
        "\n",
        "def init_weights(m):\n",
        "    if type(m) in [nn.Linear, nn.Conv2d]:\n",
        "        nn.init.xavier_uniform_(m.weight)"
      ]
    },
    {
      "cell_type": "code",
      "execution_count": 3,
      "metadata": {
        "id": "auymFO7qTwV5"
      },
      "outputs": [],
      "source": [
        "class Model(nn.Module):\n",
        "    def __init__(self):\n",
        "        super().__init__()\n",
        "        base = torchvision.models.resnet18(pretrained=True)\n",
        "        self.base = nn.Sequential(*list(base.children())[:-1])\n",
        "        in_features = base.fc.in_features\n",
        "        self.drop = nn.Dropout()\n",
        "        self.final = nn.Linear(in_features,10)\n",
        "\n",
        "    def forward(self,x):\n",
        "        x = self.base(x)\n",
        "        x = self.drop(x.view(-1,self.final.in_features))\n",
        "        return self.final(x)\n"
      ]
    },
    {
      "cell_type": "code",
      "execution_count": null,
      "metadata": {
        "colab": {
          "base_uri": "https://localhost:8080/"
        },
        "id": "Q3qMmpDX6kPQ",
        "outputId": "272b6fb1-79c6-4cde-8678-bd2da2b5180d"
      },
      "outputs": [],
      "source": [
        "import torch.optim as optim\n",
        "device = torch.device('cuda:0' if torch.cuda.is_available() else 'cpu')\n",
        "net = Model()\n",
        "criterion = nn.CrossEntropyLoss()\n",
        "param_groups = [\n",
        "    {'params':net.base.parameters(),'lr':.0001},\n",
        "    {'params':net.final.parameters(),'lr':.001}\n",
        "]\n",
        "trainer = optim.Adam(param_groups)\n",
        "net.to(device)\n",
        "criterion.to(device)"
      ]
    },
    {
      "cell_type": "code",
      "execution_count": 49,
      "metadata": {
        "colab": {
          "base_uri": "https://localhost:8080/"
        },
        "id": "k9Z-7KBz6kPQ",
        "outputId": "97a01d0b-89a4-4c5d-ae45-fd27841cf811"
      },
      "outputs": [
        {
          "name": "stdout",
          "output_type": "stream",
          "text": [
            "[1,   100] loss: 0.902\n",
            "[1,   200] loss: 0.401\n",
            "[1,   300] loss: 0.304\n",
            "[1,   400] loss: 0.296\n",
            "[1,   500] loss: 0.282\n",
            "[1,   600] loss: 0.258\n",
            "[1,   700] loss: 0.251\n",
            "[2,   100] loss: 0.122\n",
            "[2,   200] loss: 0.129\n",
            "[2,   300] loss: 0.130\n",
            "[2,   400] loss: 0.124\n",
            "[2,   500] loss: 0.132\n",
            "[2,   600] loss: 0.130\n",
            "[2,   700] loss: 0.166\n",
            "[3,   100] loss: 0.064\n",
            "[3,   200] loss: 0.059\n",
            "[3,   300] loss: 0.065\n",
            "[3,   400] loss: 0.083\n",
            "[3,   500] loss: 0.075\n",
            "[3,   600] loss: 0.073\n",
            "[3,   700] loss: 0.081\n",
            "[4,   100] loss: 0.047\n",
            "[4,   200] loss: 0.042\n",
            "[4,   300] loss: 0.043\n",
            "[4,   400] loss: 0.052\n",
            "[4,   500] loss: 0.056\n",
            "[4,   600] loss: 0.064\n",
            "[4,   700] loss: 0.064\n",
            "[5,   100] loss: 0.044\n",
            "[5,   200] loss: 0.044\n",
            "[5,   300] loss: 0.042\n",
            "[5,   400] loss: 0.047\n",
            "[5,   500] loss: 0.066\n",
            "[5,   600] loss: 0.060\n",
            "[5,   700] loss: 0.045\n",
            "[6,   100] loss: 0.034\n",
            "[6,   200] loss: 0.025\n",
            "[6,   300] loss: 0.034\n",
            "[6,   400] loss: 0.034\n",
            "[6,   500] loss: 0.037\n",
            "[6,   600] loss: 0.040\n",
            "[6,   700] loss: 0.044\n",
            "[7,   100] loss: 0.034\n",
            "[7,   200] loss: 0.047\n",
            "[7,   300] loss: 0.032\n",
            "[7,   400] loss: 0.038\n",
            "[7,   500] loss: 0.046\n",
            "[7,   600] loss: 0.042\n",
            "[7,   700] loss: 0.062\n",
            "[8,   100] loss: 0.033\n",
            "[8,   200] loss: 0.028\n",
            "[8,   300] loss: 0.023\n",
            "[8,   400] loss: 0.052\n",
            "[8,   500] loss: 0.037\n",
            "[8,   600] loss: 0.036\n",
            "[8,   700] loss: 0.041\n",
            "[9,   100] loss: 0.056\n",
            "[9,   200] loss: 0.025\n",
            "[9,   300] loss: 0.024\n",
            "[9,   400] loss: 0.035\n",
            "[9,   500] loss: 0.040\n",
            "[9,   600] loss: 0.032\n",
            "[9,   700] loss: 0.034\n",
            "[10,   100] loss: 0.017\n",
            "[10,   200] loss: 0.020\n",
            "[10,   300] loss: 0.017\n",
            "[10,   400] loss: 0.025\n",
            "[10,   500] loss: 0.025\n",
            "[10,   600] loss: 0.028\n",
            "[10,   700] loss: 0.027\n",
            "Finished Training\n"
          ]
        }
      ],
      "source": [
        "for epoch in range(10):  # loop over the dataset multiple times\n",
        "    running_loss = 0.0\n",
        "    for i, data in enumerate(trainloader, 0):\n",
        "        inputs, labels = data\n",
        "        inputs = inputs.cuda()\n",
        "        labels = labels.cuda()\n",
        "        trainer.zero_grad()\n",
        "        outputs = net(inputs)\n",
        "        loss = criterion(outputs, labels)\n",
        "        loss.backward()\n",
        "        trainer.step()\n",
        "        running_loss += loss.item()\n",
        "        if i % 100 == 99:    # print every 100 mini-batches\n",
        "            print(f'[{epoch + 1}, {i + 1:5d}] loss: {running_loss / 100:.3f}')\n",
        "            running_loss = 0.0\n",
        "\n",
        "print('Finished Training')"
      ]
    },
    {
      "cell_type": "code",
      "execution_count": 5,
      "metadata": {},
      "outputs": [
        {
          "data": {
            "text/plain": [
              "<All keys matched successfully>"
            ]
          },
          "execution_count": 5,
          "metadata": {},
          "output_type": "execute_result"
        }
      ],
      "source": [
        "net.load_state_dict(torch.load('model_state_dict.pth'))"
      ]
    },
    {
      "cell_type": "code",
      "execution_count": 7,
      "metadata": {
        "colab": {
          "base_uri": "https://localhost:8080/"
        },
        "id": "8HB1hCL36kPR",
        "outputId": "b84bba4c-3a56-4d9b-f194-860786e23410"
      },
      "outputs": [
        {
          "name": "stdout",
          "output_type": "stream",
          "text": [
            "Accuracy of the network on the 10000 test images: 93.46 %\n"
          ]
        }
      ],
      "source": [
        "correct = 0\n",
        "total = 0\n",
        "# since we're not training, we don't need to calculate the gradients for our outputs\n",
        "with torch.no_grad():\n",
        "    for data in testloader:\n",
        "        images, labels = data\n",
        "        images = images.cuda()\n",
        "        labels = labels.cuda()\n",
        "        outputs = net(images)\n",
        "        predicted = outputs.argmax(1)\n",
        "        total += labels.size(0)\n",
        "        correct += (predicted == labels).sum().item()\n",
        "\n",
        "print(f'Accuracy of the network on the 10000 test images: {100 * correct / total} %')"
      ]
    },
    {
      "cell_type": "code",
      "execution_count": 25,
      "metadata": {
        "id": "BiTEEASz6kPR"
      },
      "outputs": [],
      "source": []
    },
    {
      "cell_type": "code",
      "execution_count": 25,
      "metadata": {
        "id": "xfsbojBu6kPR"
      },
      "outputs": [],
      "source": []
    },
    {
      "cell_type": "code",
      "execution_count": 25,
      "metadata": {
        "id": "mHfMXu4B6kPR"
      },
      "outputs": [],
      "source": []
    }
  ],
  "metadata": {
    "accelerator": "GPU",
    "colab": {
      "gpuType": "T4",
      "provenance": []
    },
    "kernelspec": {
      "display_name": "Python 3",
      "name": "python3"
    },
    "language_info": {
      "codemirror_mode": {
        "name": "ipython",
        "version": 3
      },
      "file_extension": ".py",
      "mimetype": "text/x-python",
      "name": "python",
      "nbconvert_exporter": "python",
      "pygments_lexer": "ipython3",
      "version": "3.9.17"
    }
  },
  "nbformat": 4,
  "nbformat_minor": 0
}
